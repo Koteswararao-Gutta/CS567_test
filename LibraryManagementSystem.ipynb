{
  "cells": [
    {
      "cell_type": "markdown",
      "id": "d50b21d4",
      "metadata": {
        "id": "d50b21d4"
      },
      "source": [
        "# Library Management System\n",
        "## Core Code"
      ]
    },
    {
      "cell_type": "code",
      "execution_count": 17,
      "id": "bf1c6c10",
      "metadata": {
        "colab": {
          "base_uri": "https://localhost:8080/"
        },
        "id": "bf1c6c10",
        "outputId": "f82d2b33-c079-4688-a5de-6889f46a46dd"
      },
      "outputs": [
        {
          "output_type": "stream",
          "name": "stdout",
          "text": [
            "Overwriting library_management.py\n"
          ]
        }
      ],
      "source": [
        "\n",
        "%%writefile library_management.py\n",
        "class Library:\n",
        "    def __init__(self):\n",
        "        self.books = {}  # {book_id: {'title': str, 'author': str, 'copies': int, 'genre': str}}\n",
        "        self.members = {}  # {member_id: {'name': str, 'borrowed_books': list}}\n",
        "        self.borrowed_books = {}  # {book_id: member_id}\n",
        "\n",
        "    # Book Management\n",
        "    def add_book(self, book_id, title, author, copies, genre=\"General\"):\n",
        "        if book_id in self.books:\n",
        "            self.books[book_id]['copies'] += copies\n",
        "        else:\n",
        "            self.books[book_id] = {'title': title, 'author': author, 'copies': copies, 'genre': genre}\n",
        "\n",
        "    def remove_book(self, book_id):\n",
        "        if book_id in self.books:\n",
        "            del self.books[book_id]\n",
        "\n",
        "    def search_book(self, query, search_by=\"title\"):\n",
        "        results = [\n",
        "            book for book in self.books.values()\n",
        "            if query.lower() in book[search_by].lower()\n",
        "        ]\n",
        "        return results\n",
        "\n",
        "    def list_books_by_genre(self, genre):\n",
        "        return [book for book in self.books.values() if book['genre'].lower() == genre.lower()]\n",
        "\n",
        "    def list_available_books(self):\n",
        "        return {book_id: info for book_id, info in self.books.items() if info['copies'] > 0}\n",
        "\n",
        "    # Member Management\n",
        "    def register_member(self, member_id, name):\n",
        "        if member_id not in self.members:\n",
        "            self.members[member_id] = {'name': name, 'borrowed_books': []}\n",
        "\n",
        "    def deregister_member(self, member_id):\n",
        "        if member_id in self.members:\n",
        "            del self.members[member_id]\n",
        "\n",
        "    def get_member_details(self, member_id):\n",
        "        return self.members.get(member_id, None)\n",
        "\n",
        "    # Borrowing and Returning Books\n",
        "    def borrow_book(self, book_id, member_id):\n",
        "        if book_id in self.books and self.books[book_id]['copies'] > 0:\n",
        "            if member_id in self.members:\n",
        "                self.books[book_id]['copies'] -= 1\n",
        "                self.members[member_id]['borrowed_books'].append(book_id)\n",
        "                self.borrowed_books[book_id] = member_id\n",
        "            else:\n",
        "                raise ValueError(\"Member ID not found.\")\n",
        "        else:\n",
        "            raise ValueError(\"Book unavailable for borrowing.\")\n",
        "\n",
        "    def return_book(self, book_id, member_id):\n",
        "        if book_id in self.borrowed_books and self.borrowed_books[book_id] == member_id:\n",
        "            self.books[book_id]['copies'] += 1\n",
        "            self.members[member_id]['borrowed_books'].remove(book_id)\n",
        "            del self.borrowed_books[book_id]\n",
        "        else:\n",
        "            raise ValueError(\"Invalid return attempt.\")\n",
        "\n",
        "    # Utility Methods\n",
        "    def display_books(self):\n",
        "        if self.books:\n",
        "            print(\"Books in the Library:\")\n",
        "            for book_id, info in self.books.items():\n",
        "                print(\n",
        "                    f\"ID: {book_id}, Title: {info['title']}, Author: {info['author']}, \"\n",
        "                    f\"Copies: {info['copies']}, Genre: {info['genre']}\"\n",
        "                )\n",
        "        else:\n",
        "            print(\"No books in the library.\")\n",
        "\n",
        "    def display_members(self):\n",
        "        if self.members:\n",
        "            print(\"Library Members:\")\n",
        "            for member_id, info in self.members.items():\n",
        "                print(\n",
        "                    f\"ID: {member_id}, Name: {info['name']}, Borrowed Books: {info['borrowed_books']}\"\n",
        "                )\n",
        "        else:\n",
        "            print(\"No members registered.\")\n",
        "\n",
        "    # Additional Features\n",
        "    def generate_book_report(self):\n",
        "        report = \"Book Report:\\n\"\n",
        "        for book_id, info in self.books.items():\n",
        "            report += (\n",
        "                f\"ID: {book_id}, Title: {info['title']}, Author: {info['author']}, \"\n",
        "                f\"Copies: {info['copies']}, Genre: {info['genre']}\\n\"\n",
        "            )\n",
        "        return report\n",
        "\n",
        "    def generate_member_report(self):\n",
        "        report = \"Member Report:\\n\"\n",
        "        for member_id, info in self.members.items():\n",
        "            report += (\n",
        "                f\"ID: {member_id}, Name: {info['name']}, Borrowed Books: {info['borrowed_books']}\\n\"\n",
        "            )\n",
        "        return report\n",
        "\n",
        "    def get_most_popular_books(self):\n",
        "        borrowed_count = {book_id: 0 for book_id in self.books.keys()}\n",
        "        for book_id in self.borrowed_books.keys():\n",
        "            borrowed_count[book_id] += 1\n",
        "        sorted_books = sorted(\n",
        "            borrowed_count.items(), key=lambda x: x[1], reverse=True\n",
        "        )\n",
        "        return sorted_books[:5]\n",
        "\n",
        "\n",
        "# Sample Usage\n",
        "if __name__ == \"__main__\":\n",
        "    library = Library()\n",
        "\n",
        "    # Add books\n",
        "    library.add_book(1, \"1984\", \"George Orwell\", 5, genre=\"Dystopian\")\n",
        "    library.add_book(2, \"To Kill a Mockingbird\", \"Harper Lee\", 3, genre=\"Classic\")\n",
        "    library.add_book(3, \"The Great Gatsby\", \"F. Scott Fitzgerald\", 4, genre=\"Classic\")\n",
        "\n",
        "    # Register members\n",
        "    library.register_member(101, \"Alice\")\n",
        "    library.register_member(102, \"Bob\")\n",
        "\n",
        "    # Borrow books\n",
        "    library.borrow_book(1, 101)\n",
        "    library.borrow_book(2, 102)\n",
        "\n",
        "    # Display books and members\n",
        "    library.display_books()\n",
        "    library.display_members()\n",
        "\n",
        "    # Return books\n",
        "    library.return_book(1, 101)\n",
        "\n",
        "    # Display updated status\n",
        "    library.display_books()\n",
        "    library.display_members()\n"
      ]
    },
    {
      "cell_type": "markdown",
      "source": [
        "## Test Code"
      ],
      "metadata": {
        "id": "H-Ev3WHktBVA"
      },
      "id": "H-Ev3WHktBVA"
    },
    {
      "cell_type": "code",
      "execution_count": 18,
      "id": "87b27c6b",
      "metadata": {
        "colab": {
          "base_uri": "https://localhost:8080/"
        },
        "id": "87b27c6b",
        "outputId": "f4c55368-eb56-4af6-82ca-3231fb73a7c4"
      },
      "outputs": [
        {
          "output_type": "stream",
          "name": "stdout",
          "text": [
            "Overwriting test_library_management.py\n"
          ]
        }
      ],
      "source": [
        "%%writefile test_library_management.py\n",
        "import unittest\n",
        "from library_management import Library\n",
        "\n",
        "class TestLibrary(unittest.TestCase):\n",
        "    def setUp(self):\n",
        "        self.library = Library()\n",
        "\n",
        "    def test_add_book(self):\n",
        "        self.library.add_book(1, \"1984\", \"George Orwell\", 5)\n",
        "        self.assertIn(1, self.library.books)\n",
        "\n",
        "    def test_register_member(self):\n",
        "        self.library.register_member(101, \"Alice\")\n",
        "        self.assertIn(101, self.library.members)\n",
        "\n",
        "    def test_borrow_book(self):\n",
        "        self.library.add_book(1, \"1984\", \"George Orwell\", 5)\n",
        "        self.library.register_member(101, \"Alice\")\n",
        "        self.library.borrow_book(1, 101)\n",
        "        self.assertEqual(self.library.books[1]['copies'], 4)\n",
        "        self.assertIn(1, self.library.members[101]['borrowed_books'])\n",
        "\n",
        "    def test_return_book(self):\n",
        "        self.library.add_book(1, \"1984\", \"George Orwell\", 5)\n",
        "        self.library.register_member(101, \"Alice\")\n",
        "        self.library.borrow_book(1, 101)\n",
        "        self.library.return_book(1, 101)\n",
        "        self.assertEqual(self.library.books[1]['copies'], 5)\n",
        "\n"
      ]
    },
    {
      "cell_type": "markdown",
      "source": [
        "### Installing coverage and checking code coverage"
      ],
      "metadata": {
        "id": "LzG2DeILtLRQ"
      },
      "id": "LzG2DeILtLRQ"
    },
    {
      "cell_type": "code",
      "source": [
        "!pip install coverage\n",
        "!coverage run -m unittest library_management.py\n",
        "!coverage report\n",
        "\n"
      ],
      "metadata": {
        "colab": {
          "base_uri": "https://localhost:8080/"
        },
        "id": "ol4Wv1BJr8Ag",
        "outputId": "803f6c6d-2e34-45ab-9c53-06ca4ebc6734"
      },
      "id": "ol4Wv1BJr8Ag",
      "execution_count": 19,
      "outputs": [
        {
          "output_type": "stream",
          "name": "stdout",
          "text": [
            "Requirement already satisfied: coverage in /usr/local/lib/python3.10/dist-packages (7.6.9)\n",
            "\n",
            "----------------------------------------------------------------------\n",
            "Ran 0 tests in 0.000s\n",
            "\n",
            "OK\n",
            "Name                    Stmts   Miss  Cover\n",
            "-------------------------------------------\n",
            "library_management.py      83     65    22%\n",
            "-------------------------------------------\n",
            "TOTAL                      83     65    22%\n"
          ]
        }
      ]
    },
    {
      "cell_type": "code",
      "source": [],
      "metadata": {
        "id": "wbCPh3l6tNQq"
      },
      "id": "wbCPh3l6tNQq",
      "execution_count": 19,
      "outputs": []
    },
    {
      "cell_type": "markdown",
      "source": [
        "### Installing mutpy"
      ],
      "metadata": {
        "id": "elgkaKcMtONO"
      },
      "id": "elgkaKcMtONO"
    },
    {
      "cell_type": "code",
      "source": [
        "!pip install mutpy"
      ],
      "metadata": {
        "colab": {
          "base_uri": "https://localhost:8080/"
        },
        "id": "H1OZWdJ-seg7",
        "outputId": "3b91e1f4-8b87-4f2b-ce1b-3692d862e7c1"
      },
      "id": "H1OZWdJ-seg7",
      "execution_count": 20,
      "outputs": [
        {
          "output_type": "stream",
          "name": "stdout",
          "text": [
            "Requirement already satisfied: mutpy in /usr/local/lib/python3.10/dist-packages (0.6.1)\n",
            "Requirement already satisfied: Jinja2>=2.7.1 in /usr/local/lib/python3.10/dist-packages (from mutpy) (3.1.4)\n",
            "Requirement already satisfied: termcolor>=1.0.0 in /usr/local/lib/python3.10/dist-packages (from mutpy) (2.5.0)\n",
            "Requirement already satisfied: astmonkey>=0.2.2 in /usr/local/lib/python3.10/dist-packages (from mutpy) (0.3.6)\n",
            "Requirement already satisfied: PyYAML>=3.10 in /usr/local/lib/python3.10/dist-packages (from mutpy) (6.0.2)\n",
            "Requirement already satisfied: pydot in /usr/local/lib/python3.10/dist-packages (from astmonkey>=0.2.2->mutpy) (3.0.3)\n",
            "Requirement already satisfied: MarkupSafe>=2.0 in /usr/local/lib/python3.10/dist-packages (from Jinja2>=2.7.1->mutpy) (3.0.2)\n",
            "Requirement already satisfied: pyparsing>=3.0.9 in /usr/local/lib/python3.10/dist-packages (from pydot->astmonkey>=0.2.2->mutpy) (3.2.0)\n"
          ]
        }
      ]
    },
    {
      "cell_type": "markdown",
      "source": [
        "### Mutation testing"
      ],
      "metadata": {
        "id": "KqBh97YotUNF"
      },
      "id": "KqBh97YotUNF"
    },
    {
      "cell_type": "code",
      "source": [
        "!mut.py --target library_management --unit-test test_library_management"
      ],
      "metadata": {
        "colab": {
          "base_uri": "https://localhost:8080/"
        },
        "id": "uzt0HvtZr8lq",
        "outputId": "0bc7b4bc-310d-4fb4-bfa4-50cb09108dd2"
      },
      "id": "uzt0HvtZr8lq",
      "execution_count": 21,
      "outputs": [
        {
          "output_type": "stream",
          "name": "stdout",
          "text": [
            "[*] Start mutation process:\n",
            "   - targets: library_management\n",
            "   - tests: test_library_management\n",
            "[*] 4 tests passed:\n",
            "   - test_library_management [0.00044 s]\n",
            "[*] Start mutants generation and execution:\n",
            "   - [#   1] ASR library_management: [0.00580 s] survived\n",
            "   - [#   2] ASR library_management: [0.00640 s] killed by test_borrow_book (test_library_management.TestLibrary)\n",
            "   - [#   3] ASR library_management: [0.00648 s] killed by test_return_book (test_library_management.TestLibrary)\n",
            "   - [#   4] ASR library_management: [0.01254 s] survived\n",
            "   - [#   5] ASR library_management: [0.01033 s] survived\n",
            "   - [#   6] ASR library_management: [0.00819 s] survived\n",
            "   - [#   7] COD library_management: [0.00696 s] killed by test_borrow_book (test_library_management.TestLibrary)\n",
            "   - [#   8] COI library_management: [0.00681 s] killed by test_add_book (test_library_management.TestLibrary)\n",
            "   - [#   9] COI library_management: [0.00623 s] killed by test_add_book (test_library_management.TestLibrary)\n",
            "   - [#  10] COI library_management: [0.00526 s] survived\n",
            "   - [#  11] COI library_management: [0.00748 s] survived\n",
            "   - [#  12] COI library_management: [0.00740 s] survived\n",
            "   - [#  13] COI library_management: [0.00935 s] killed by test_borrow_book (test_library_management.TestLibrary)\n",
            "   - [#  14] COI library_management: [0.00938 s] survived\n",
            "   - [#  15] COI library_management: [0.00779 s] survived\n",
            "   - [#  16] COI library_management: [0.00961 s] killed by test_borrow_book (test_library_management.TestLibrary)\n",
            "   - [#  17] COI library_management: [0.01185 s] killed by test_borrow_book (test_library_management.TestLibrary)\n",
            "   - [#  18] COI library_management: [0.01140 s] killed by test_borrow_book (test_library_management.TestLibrary)\n",
            "   - [#  19] COI library_management: [0.01136 s] killed by test_borrow_book (test_library_management.TestLibrary)\n",
            "   - [#  20] COI library_management: [0.00928 s] killed by test_return_book (test_library_management.TestLibrary)\n",
            "   - [#  21] COI library_management: [0.01053 s] killed by test_return_book (test_library_management.TestLibrary)\n",
            "   - [#  22] COI library_management: [0.00800 s] survived\n",
            "   - [#  23] COI library_management: [0.01305 s] survived\n",
            "   - [#  24] COI library_management: Books in the Library:\n",
            "ID: 1, Title: 1984, Author: George Orwell, Copies: 4, Genre: Dystopian\n",
            "ID: 2, Title: To Kill a Mockingbird, Author: Harper Lee, Copies: 2, Genre: Classic\n",
            "ID: 3, Title: The Great Gatsby, Author: F. Scott Fitzgerald, Copies: 4, Genre: Classic\n",
            "Library Members:\n",
            "ID: 101, Name: Alice, Borrowed Books: [1]\n",
            "ID: 102, Name: Bob, Borrowed Books: [2]\n",
            "Books in the Library:\n",
            "ID: 1, Title: 1984, Author: George Orwell, Copies: 5, Genre: Dystopian\n",
            "ID: 2, Title: To Kill a Mockingbird, Author: Harper Lee, Copies: 2, Genre: Classic\n",
            "ID: 3, Title: The Great Gatsby, Author: F. Scott Fitzgerald, Copies: 4, Genre: Classic\n",
            "Library Members:\n",
            "ID: 101, Name: Alice, Borrowed Books: []\n",
            "ID: 102, Name: Bob, Borrowed Books: [2]\n",
            "[0.00829 s] survived\n",
            "   - [#  25] LCR library_management: [0.00647 s] survived\n",
            "   - [#  26] LCR library_management: [0.00597 s] survived\n",
            "   - [#  27] ROR library_management: [0.00624 s] survived\n",
            "   - [#  28] ROR library_management: [0.00594 s] survived\n",
            "   - [#  29] ROR library_management: [0.00548 s] survived\n",
            "   - [#  30] ROR library_management: [0.00655 s] killed by test_borrow_book (test_library_management.TestLibrary)\n",
            "   - [#  31] ROR library_management: [0.00541 s] survived\n",
            "   - [#  32] ROR library_management: [0.00674 s] killed by test_return_book (test_library_management.TestLibrary)\n",
            "   - [#  33] ROR library_management: Books in the Library:\n",
            "ID: 1, Title: 1984, Author: George Orwell, Copies: 4, Genre: Dystopian\n",
            "ID: 2, Title: To Kill a Mockingbird, Author: Harper Lee, Copies: 2, Genre: Classic\n",
            "ID: 3, Title: The Great Gatsby, Author: F. Scott Fitzgerald, Copies: 4, Genre: Classic\n",
            "Library Members:\n",
            "ID: 101, Name: Alice, Borrowed Books: [1]\n",
            "ID: 102, Name: Bob, Borrowed Books: [2]\n",
            "Books in the Library:\n",
            "ID: 1, Title: 1984, Author: George Orwell, Copies: 5, Genre: Dystopian\n",
            "ID: 2, Title: To Kill a Mockingbird, Author: Harper Lee, Copies: 2, Genre: Classic\n",
            "ID: 3, Title: The Great Gatsby, Author: F. Scott Fitzgerald, Copies: 4, Genre: Classic\n",
            "Library Members:\n",
            "ID: 101, Name: Alice, Borrowed Books: []\n",
            "ID: 102, Name: Bob, Borrowed Books: [2]\n",
            "[0.00584 s] survived\n",
            "   - [#  34] SIR library_management: [0.00987 s] survived\n",
            "[*] Mutation score [1.01065 s]: 41.2%\n",
            "   - all: 34\n",
            "   - killed: 14 (41.2%)\n",
            "   - survived: 20 (58.8%)\n",
            "   - incompetent: 0 (0.0%)\n",
            "   - timeout: 0 (0.0%)\n"
          ]
        }
      ]
    },
    {
      "cell_type": "code",
      "source": [],
      "metadata": {
        "id": "VUrZrUjJsj3a"
      },
      "id": "VUrZrUjJsj3a",
      "execution_count": null,
      "outputs": []
    }
  ],
  "metadata": {
    "colab": {
      "provenance": []
    },
    "language_info": {
      "name": "python"
    },
    "kernelspec": {
      "name": "python3",
      "display_name": "Python 3"
    }
  },
  "nbformat": 4,
  "nbformat_minor": 5
}